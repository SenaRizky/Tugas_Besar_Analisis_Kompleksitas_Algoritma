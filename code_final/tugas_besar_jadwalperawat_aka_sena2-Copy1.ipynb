{
 "cells": [
  {
   "cell_type": "code",
   "execution_count": 46,
   "metadata": {
    "collapsed": false,
    "jupyter": {
     "outputs_hidden": false
    }
   },
   "outputs": [],
   "source": [
    "import pandas as pd\n",
    "import numpy as np\n",
    "import scipy as sp\n",
    "import seaborn as sns\n",
    "import matplotlib.pyplot as plt\n",
    "from pandas.plotting import table\n",
    "import os, sys, json\n",
    "from pulp import *\n",
    "\n",
    "%matplotlib inline"
   ]
  },
  {
   "cell_type": "code",
   "execution_count": null,
   "metadata": {},
   "outputs": [],
   "source": []
  },
  {
   "cell_type": "markdown",
   "metadata": {},
   "source": [
    "# Penjadwalan Perawat \n",
    "\n",
    "## Implementasi algoritma Linear Programming untuk penyelasaian masalah penjadwalan Perawat. \n",
    "\n",
    "\n",
    "### asumsi dan batasan (konstrain):\n",
    "\n",
    "* Setiap hari dibagi menjadi 2 shift, yakni shift siang dan malam, dengan masing-masing shift masing-masing 12 jam\n",
    "\n",
    "\n",
    "* Terpenuhi kebutuhan jumlah perawat untuk tiap shift \n",
    "\n",
    "* Jika ada permintaan cuti untuk hari tertentu maka perawat tidak boleh dijadwalkan dalam shift dihari cuti. \n",
    "\n",
    "* Periode penjadwalan selama 4 minggu (28 hari). \n",
    "    \n",
    "* Dalam tugas ini, yang digunakan 1 minggu untuk kemudahan visualisasi.\n",
    "\n",
    "* Setiap perawat bekerja dalam 12, 24 atau 36 jam dalam seminggu.\n",
    "\n",
    "\n",
    "### Setiap perawat:\n",
    "\n",
    "* Tidak ada perawat yang akan bekerja pada kedua shift dalam satu hari.\n",
    "\n",
    "* Seorang perawat yang bekerja pada shift malam akan mengambil cuti pada hari berikutnya.\n",
    "\n",
    "* Jumlah shift malam maksimal untuk setiap perawat paling banyak SATU."
   ]
  },
  {
   "cell_type": "markdown",
   "metadata": {},
   "source": [
    "## Model:\n",
    "\n",
    "* ide pentingnya adalah memperkenalkan variabel biner ***x_ns*** untuk linierisasi model\n",
    "\n",
    "\n",
    "* Batasan dan fungsi tujuan dapat direpresentasikan sebagai persamaan persamaan dan pertidaksamaan.\n",
    "\n",
    "\\begin{align}\n",
    "    x_{ns}= \n",
    "        \\begin{cases}\n",
    "            0, &\\text{perawat n tidak akan bekerja pada shift s}\\ \\\\\n",
    "            1, &\\text{perawat n akan bekerja pada shift s}\\\n",
    "        \\end{cases}\n",
    "\\end{align}\n",
    "\n",
    "* s: indeks shift\n",
    "\n",
    "* n: indeks perawat\n",
    "\n",
    "* r: daftar kebutuhan perawat tiap hari.\n",
    "\n",
    "\n",
    "\\begin{align}\n",
    "    \\text{r} = [\\text{jumlah perawat yang dibutuhkan dalam shift tertentu}] \\\\\n",
    "    \\text{r[index genap]} = [\\text{jumlah perawat yang dibutuhkan dalam shift harian}] \\\\\n",
    "    \\text{r[index ganjil]} = [\\text{jumlah perawat yang dibutuhkan pada shift malam}] \n",
    "\\end{align}\n",
    "\n",
    "* PTO = Menyimpan informasi shift di luar kerja (perawat meminta PTO (Cuti) atau alasan lain)\n",
    "\n",
    "\\begin{align}\n",
    "    \\text{PTO} = \\{n : [\\text{daftar shift luar kerja perawat n}]\\}\n",
    "\\end{align}\n",
    "\n",
    "\n",
    "* shift_harian: [0, 1] in this case(siang = 0 /malam = 1).\n",
    "\n",
    "* shift_kerja = [1,2,3]: perawat bekerja 12, 24, 36 jam per minggu.\n",
    "\n",
    "* periode_penjadwalan: in this notebook, periode_penjadwalan = 1. \n",
    "\n",
    "* fungsi obyektif: meminimalkan jumlah perawat terjadwal dengan memenuhi semua batasan.\n",
    "\n",
    "* Nantinya, preferensi shift/perawat tertentu dan batasan lainnya dapat disesuaikan. \n",
    "\n",
    "* Implementasi algoritma linear programming dengan pulp/python untuk menyelesaikan penjadwalan perawat"
   ]
  },
  {
   "cell_type": "markdown",
   "metadata": {},
   "source": [
    "## Inisialisasi Parameter"
   ]
  },
  {
   "cell_type": "code",
   "execution_count": 47,
   "metadata": {
    "collapsed": false,
    "jupyter": {
     "outputs_hidden": false
    }
   },
   "outputs": [
    {
     "name": "stdout",
     "output_type": "stream",
     "text": [
      "  Senin Selasa Rabu Kamis Jumat Sabtu Minggu\n",
      "0     5      5    5     5     5     5      5\n",
      "1     3      3    3     3     3     3      3\n",
      "Jumlah perawat yang dibutuhkan setiap shift:\n",
      "[5 3 5 3 5 3 5 3 5 3 5 3 5 3]\n",
      "\n",
      "Dalam format matrix:\n",
      "  Senin Selasa Rabu Kamis Jumat Sabtu Minggu\n",
      "0     5      5    5     5     5     5      5\n",
      "1     3      3    3     3     3     3      3\n",
      "\n",
      "Total jumlah perawat adalah: 22\n",
      "\n",
      "ID perawat: \n",
      "['perawat 0', 'perawat 1', 'perawat 2', 'perawat 3', 'perawat 4', 'perawat 5', 'perawat 6', 'perawat 7', 'perawat 8', 'perawat 9', 'perawat 10', 'perawat 11', 'perawat 12', 'perawat 13', 'perawat 14', 'perawat 15', 'perawat 16', 'perawat 17', 'perawat 18', 'perawat 19', 'perawat 20', 'perawat 21']\n"
     ]
    }
   ],
   "source": [
    "# jumlah jam kerja perawat 12, 24, 36 jam perminggu.\n",
    "working_shift = [1, 2, 3] \n",
    "\n",
    "# jumlah maksimum shift setiap minggu untuk tiap perawat\n",
    "max_shifts = 3\n",
    "\n",
    "# planning_length\n",
    "planning_length = 1 \n",
    "\n",
    "# Jumlah shift tiap hari:\n",
    "daily_shift = [0, 1]\n",
    "\n",
    "# Label hari kalender dari senin sampai dengan sabtu. \n",
    "d = ['Senin', 'Selasa', 'Rabu', 'Kamis', 'Jumat','Sabtu','Minggu']\n",
    "\n",
    "# Membuat dataframe  require_nurses (kebutuhan perawat) \n",
    "# day_nurse: Jumlah kebutuhan perawat tiap hari untuk setiap shift siang.\n",
    "# night_nurse: Jumlah kebutuha  perawat tiap hari untuk setiap shift malam.\n",
    "col = range(0, 7*planning_length)\n",
    "\n",
    "require_nurses = pd.DataFrame(data = None, columns=d, index = daily_shift)\n",
    "for j in col:\n",
    "    # Angka nilai yang kecil digunakan untuk memudahkan visualisasi.\n",
    "    day_nurse, night_nurse = 5, 3\n",
    "    require_nurses.iat[0, j] = day_nurse\n",
    "    require_nurses.iat[1, j] = night_nurse\n",
    "\n",
    "\n",
    "# Jumlah perawat yang dibutuhkan untuk tiap shift\n",
    "\n",
    "# r[even index]: jumlah perawat yang dibutuhkan tiap hari untuk shif siang\n",
    "# r[odd index]: jumlah perawat yang dibutuhkan tiap hari untk shift malam\n",
    "\n",
    "print (require_nurses)\n",
    "\n",
    "r = require_nurses.values.swapaxes(0,1).ravel()\n",
    "\n",
    "print (\"Jumlah perawat yang dibutuhkan setiap shift:\") \n",
    "print (r)\n",
    "\n",
    "print (\"\\nDalam format matrix:\")\n",
    "print (require_nurses.head())\n",
    "\n",
    "\n",
    "# Total Jumlah Perawat\n",
    "total = int(sum(r)/2.5)\n",
    "print (\"\\nTotal jumlah perawat adalah: {}\".format(total))\n",
    "\n",
    "# Membuat id perawat\n",
    "nurses_id = ['perawat '+str(i) for i in range(total)]\n",
    "print (\"\\nID perawat: \")\n",
    "print (nurses_id)"
   ]
  },
  {
   "cell_type": "markdown",
   "metadata": {},
   "source": [
    "## Perawat libur pada spesifik shift tertentu"
   ]
  },
  {
   "cell_type": "code",
   "execution_count": 48,
   "metadata": {
    "collapsed": false,
    "jupyter": {
     "outputs_hidden": false
    }
   },
   "outputs": [
    {
     "name": "stdout",
     "output_type": "stream",
     "text": [
      "{'0': [1], '2': [0], '3': [12, 10], '4': [7, 13], '5': [1], '10': [3], '15': [2]}\n"
     ]
    }
   ],
   "source": [
    "#  \n",
    "\n",
    "with open('utils/off_shift.json', 'r') as fp:\n",
    "    off_shift = json.load(fp)\n",
    "    \n",
    "print (off_shift)"
   ]
  },
  {
   "cell_type": "markdown",
   "metadata": {},
   "source": [
    "## Shifts dan daftar Perawat"
   ]
  },
  {
   "cell_type": "code",
   "execution_count": null,
   "metadata": {},
   "outputs": [],
   "source": []
  },
  {
   "cell_type": "code",
   "execution_count": 49,
   "metadata": {
    "collapsed": false,
    "jupyter": {
     "outputs_hidden": false
    }
   },
   "outputs": [
    {
     "name": "stdout",
     "output_type": "stream",
     "text": [
      "Nama Shift adalah: \n",
      "range(0, 14)\n",
      "\n",
      "The names of corresponding shifts are: \n",
      "['Senin_s', 'Senin_m', 'Selasa_s', 'Selasa_m', 'Rabu_s', 'Rabu_m', 'Kamis_s', 'Kamis_m', 'Jumat_s', 'Jumat_m', 'Sabtu_s', 'Sabtu_m', 'Minggu_s', 'Minggu_m']\n",
      "\n",
      "Data Perawat adalah: \n",
      "range(0, 22)\n"
     ]
    }
   ],
   "source": [
    "'''\n",
    "shifts: label tiap shift. Sabagai contoh : Hari senin shift siang adalah 0, Hari senin shift malam adalah 1, Selasa shift pagi adalah 2, dst.\n",
    "perawat: label untuk tiap perawat. untuk tujuan penyederhanaan digunakan id integer.\n",
    "'''\n",
    "\n",
    "shifts = range(2*7*planning_length)\n",
    "nurses = range(total)\n",
    "\n",
    "#print (\"The shifts are: \")\n",
    "#print (shifts)\n",
    "#print (nurses)\n",
    "\n",
    "#print (d)\n",
    "#print (s)\n",
    "## Membuat nama shift berdasarkan indeks:\n",
    "shift_name = []\n",
    "for s in shifts:\n",
    "    # Temukan shift siang atau malam di setiap hari\n",
    "    #print(s)\n",
    "    if (s%2):\n",
    "        n_or_day = 'm'\n",
    "    else:\n",
    "        n_or_day = 's'\n",
    "    shift_name.append(d[int(s/2)] + '_' + n_or_day)\n",
    "print (\"Nama Shift adalah: \")\n",
    "print (shifts)\n",
    "\n",
    "print (\"\\nThe names of corresponding shifts are: \")\n",
    "print (shift_name)\n",
    "\n",
    "print (\"\\nData Perawat adalah: \")\n",
    "print (nurses)"
   ]
  },
  {
   "cell_type": "markdown",
   "metadata": {},
   "source": [
    "## Build constraint models:\n",
    "\n",
    "* var = pulp.LpVariable(name, lowbound, upbound, cat=\"Binary\")\n",
    "\n",
    "* pb = pulp.LpProblem(name_str, sense = 'LpMaximize' or LpMinimize)\n",
    "\n",
    "\n",
    "* problem.solve(pulp.solvers.GLPK(msg=0))\n",
    "\n",
    "* check status: pulp.LpStatus(pb.status)\n",
    "\n",
    "* pulp.value(pb.objective)\n",
    "\n",
    "* Optimal solution: var.varValue"
   ]
  },
  {
   "cell_type": "code",
   "execution_count": 50,
   "metadata": {
    "collapsed": false,
    "jupyter": {
     "outputs_hidden": false
    }
   },
   "outputs": [],
   "source": [
    "def LpProb():\n",
    "\n",
    "    '''\n",
    "\n",
    "    '''\n",
    "\n",
    "    # The prob variable is created to contain the problem data   \n",
    "    prob = LpProblem(\"Penjadwalan Perawat\",LpMinimize)\n",
    "    \n",
    "    # Membuat variabel keputusan. \n",
    "    var = {\n",
    "     (n, s): pulp.LpVariable(\n",
    "        \"schdule_{0}_{1}\".format(n, s), cat = \"Binary\")\n",
    "        for n in nurses for s in shifts\n",
    "    }\n",
    "\n",
    "    \n",
    "    # Menambahkan Konstrain: \n",
    "    # Perawat tidak diijikan shift yang sama secara berurutan\n",
    "    # Jika perawat ambil shift malam, besoknya diberikan libur \n",
    "\n",
    "    for n in nurses:\n",
    "        for s in shifts:\n",
    "            if s%2 == 0:\n",
    "                prob.addConstraint(\n",
    "                var[(n,s)] + var[(n, s+1)] <= 1  # untuk shift siang\n",
    "               )\n",
    "            elif s%2 == 1 and s < shifts[-1]:\n",
    "                # night shift. Do not forget to add condition that the last\n",
    "                # shift in the scheduling does not count.\n",
    "                prob.addConstraint(\n",
    "                var[(n, s)] + var[(n, s+1)]+var[(n, s+2)] <= 1\n",
    "                )\n",
    "\n",
    "    # menambahkan konstrain:\n",
    "    for n in nurses:\n",
    "        if str(n) in off_shift:\n",
    "            for s in off_shift[str(n)]:\n",
    "                prob.addConstraint(\n",
    "                var[(n, s)] == 0\n",
    "                )\n",
    "\n",
    "    # menambahkan konstrain:\n",
    "    for n in nurses:\n",
    "        prob.addConstraint(\n",
    "        sum(var[(n,s)] for s in shifts) <= 3    \n",
    "        )\n",
    "        prob.addConstraint(\n",
    "        sum(var[(n,s)] for s in shifts) >= 1\n",
    "        )\n",
    "\n",
    "    # menambahkan konstrain\n",
    "    # Maksimum jumlah shift malam untuk tiap perawat dalam 1 minggu\n",
    "\n",
    "    for n in nurses:\n",
    "        prob.addConstraint(\n",
    "        sum(var[(n, s)] for s in shifts if s%2) <= 1\n",
    "        )\n",
    "    # menambahkan konstrains\n",
    "    # untuk tiap shift jumlah perawat yang berdinas harus lebih besar dari jumlah kebutuhan perawat tiap shift\n",
    "    for s in shifts:\n",
    "        try:\n",
    "            prob.addConstraint(\n",
    "            sum(var[(n,s)] for n in nurses) >= r[s]\n",
    "            )\n",
    "        except:\n",
    "            print (\"len(shifts) should be equal to len(require_nurses)\")\n",
    "            sys.exit(-1)   \n",
    "\n",
    "            \n",
    "    # fungsi obyektif: meminimalkan jumlah kebutuhan perawat\n",
    "    # nurse_working = []\n",
    "    # for s in shifts:\n",
    "    #     nurse_shift = sum(var[(n, s)] for n in nurses)\n",
    "    #     nurse_working.append(\n",
    "    #     pulp.LpVariable(\"nurses_%d\"%(s,), cat = 'Integer', lowBound = 0)\n",
    "    #     )\n",
    "    prob.objective = sum(var[(n,s)] for n in nurses for s in shifts)    \n",
    "    \n",
    "    return var, prob"
   ]
  },
  {
   "cell_type": "code",
   "execution_count": 51,
   "metadata": {
    "collapsed": false,
    "jupyter": {
     "outputs_hidden": false
    }
   },
   "outputs": [
    {
     "name": "stderr",
     "output_type": "stream",
     "text": [
      "C:\\Python312\\Lib\\site-packages\\pulp\\pulp.py:1298: UserWarning: Spaces are not permitted in the name. Converted to '_'\n",
      "  warnings.warn(\"Spaces are not permitted in the name. Converted to '_'\")\n"
     ]
    },
    {
     "data": {
      "text/plain": [
       "1"
      ]
     },
     "execution_count": 51,
     "metadata": {},
     "output_type": "execute_result"
    }
   ],
   "source": [
    "## Run the solver\n",
    "\n",
    "var, prob = LpProb()\n",
    "prob.solve()\n",
    "#print (LpStatus[prob.status])\n",
    "\n",
    "#for name, c in list(prob.constraints.items()):\n",
    "#    print(name, \":\", c, \"\\t\", c.pi, \"\\t\\t\", c.slack)"
   ]
  },
  {
   "cell_type": "markdown",
   "metadata": {
    "collapsed": true,
    "jupyter": {
     "outputs_hidden": true
    }
   },
   "source": [
    "## Check Constraints"
   ]
  },
  {
   "cell_type": "code",
   "execution_count": 52,
   "metadata": {
    "collapsed": false,
    "jupyter": {
     "outputs_hidden": false
    }
   },
   "outputs": [
    {
     "name": "stdout",
     "output_type": "stream",
     "text": [
      "Check the off_shift constraint: True\n"
     ]
    }
   ],
   "source": [
    "def check_off_shift():\n",
    "    # nilai True jika kontrain terpenuhi dan false jika kontrain dilanggar\n",
    "\n",
    "    for n in nurses:\n",
    "        if str(n) in off_shift:\n",
    "            for s in off_shift[str(n)]:\n",
    "                if value(var[(n,s)]) == 1:\n",
    "                    print (n, s)\n",
    "                    return False\n",
    "\n",
    "    for n in nurses:\n",
    "        for s in shifts:\n",
    "            if s%2 == 0:\n",
    "                if value(var[(n,s)]) + value(var[(n, s+1)]) > 1:\n",
    "                    return False  # for day shift\n",
    "            elif s%2 == 1 and s < shifts[-1]:\n",
    "                if value(var[(n,s)]) + value(var[(n,s+1)]) + value(var[(n, s+2)]) > 1:\n",
    "                    return False\n",
    "\n",
    "    for n in nurses:\n",
    "        tmp = sum(value(var[(n,s)]) for s in shifts) \n",
    "        if tmp > 3 or tmp < 1:\n",
    "            return False\n",
    "\n",
    "    for n in nurses:\n",
    "        if sum(value(var[(n, s)]) for s in shifts if s%2) > 1:\n",
    "            return False\n",
    "\n",
    "    for s in shifts:\n",
    "        try:\n",
    "            if sum(value(var[(n,s)]) for n in nurses) < r[s]:\n",
    "                return False\n",
    "        except:\n",
    "            print (\"len(shifts) should be equal to len(require_nurses)\")\n",
    "            sys.exit(-1)   \n",
    "\n",
    "    return True\n",
    "\n",
    "\n",
    "\n",
    "print (\"Check the off_shift constraint: {}\".format(check_off_shift()))"
   ]
  },
  {
   "cell_type": "markdown",
   "metadata": {},
   "source": [
    "## Find the schedule for all nurses"
   ]
  },
  {
   "cell_type": "code",
   "execution_count": 53,
   "metadata": {
    "collapsed": false,
    "jupyter": {
     "outputs_hidden": false
    }
   },
   "outputs": [],
   "source": [
    "def nurse_scheduling(var = var):\n",
    "\n",
    "    schedule = pd.DataFrame(data=None, index = nurses_id, columns = shift_name)\n",
    "    \n",
    "    for k, v in var.items():\n",
    "        n, s = k[0], k[1]\n",
    "        schedule.iat[n, s] = int(value(v))\n",
    "        \n",
    "    return schedule"
   ]
  },
  {
   "cell_type": "code",
   "execution_count": 54,
   "metadata": {
    "collapsed": false,
    "jupyter": {
     "outputs_hidden": false
    }
   },
   "outputs": [
    {
     "data": {
      "text/html": [
       "<div>\n",
       "<style scoped>\n",
       "    .dataframe tbody tr th:only-of-type {\n",
       "        vertical-align: middle;\n",
       "    }\n",
       "\n",
       "    .dataframe tbody tr th {\n",
       "        vertical-align: top;\n",
       "    }\n",
       "\n",
       "    .dataframe thead th {\n",
       "        text-align: right;\n",
       "    }\n",
       "</style>\n",
       "<table border=\"1\" class=\"dataframe\">\n",
       "  <thead>\n",
       "    <tr style=\"text-align: right;\">\n",
       "      <th></th>\n",
       "      <th>Senin_s</th>\n",
       "      <th>Senin_m</th>\n",
       "      <th>Selasa_s</th>\n",
       "      <th>Selasa_m</th>\n",
       "      <th>Rabu_s</th>\n",
       "      <th>Rabu_m</th>\n",
       "      <th>Kamis_s</th>\n",
       "      <th>Kamis_m</th>\n",
       "      <th>Jumat_s</th>\n",
       "      <th>Jumat_m</th>\n",
       "      <th>Sabtu_s</th>\n",
       "      <th>Sabtu_m</th>\n",
       "      <th>Minggu_s</th>\n",
       "      <th>Minggu_m</th>\n",
       "    </tr>\n",
       "  </thead>\n",
       "  <tbody>\n",
       "    <tr>\n",
       "      <th>perawat 0</th>\n",
       "      <td>1</td>\n",
       "      <td>0</td>\n",
       "      <td>1</td>\n",
       "      <td>0</td>\n",
       "      <td>0</td>\n",
       "      <td>0</td>\n",
       "      <td>0</td>\n",
       "      <td>0</td>\n",
       "      <td>0</td>\n",
       "      <td>1</td>\n",
       "      <td>0</td>\n",
       "      <td>0</td>\n",
       "      <td>0</td>\n",
       "      <td>0</td>\n",
       "    </tr>\n",
       "    <tr>\n",
       "      <th>perawat 1</th>\n",
       "      <td>0</td>\n",
       "      <td>1</td>\n",
       "      <td>0</td>\n",
       "      <td>0</td>\n",
       "      <td>0</td>\n",
       "      <td>0</td>\n",
       "      <td>1</td>\n",
       "      <td>0</td>\n",
       "      <td>1</td>\n",
       "      <td>0</td>\n",
       "      <td>0</td>\n",
       "      <td>0</td>\n",
       "      <td>0</td>\n",
       "      <td>0</td>\n",
       "    </tr>\n",
       "    <tr>\n",
       "      <th>perawat 2</th>\n",
       "      <td>0</td>\n",
       "      <td>1</td>\n",
       "      <td>0</td>\n",
       "      <td>0</td>\n",
       "      <td>1</td>\n",
       "      <td>0</td>\n",
       "      <td>1</td>\n",
       "      <td>0</td>\n",
       "      <td>0</td>\n",
       "      <td>0</td>\n",
       "      <td>0</td>\n",
       "      <td>0</td>\n",
       "      <td>0</td>\n",
       "      <td>0</td>\n",
       "    </tr>\n",
       "    <tr>\n",
       "      <th>perawat 3</th>\n",
       "      <td>0</td>\n",
       "      <td>0</td>\n",
       "      <td>1</td>\n",
       "      <td>0</td>\n",
       "      <td>0</td>\n",
       "      <td>0</td>\n",
       "      <td>0</td>\n",
       "      <td>0</td>\n",
       "      <td>0</td>\n",
       "      <td>0</td>\n",
       "      <td>0</td>\n",
       "      <td>0</td>\n",
       "      <td>0</td>\n",
       "      <td>1</td>\n",
       "    </tr>\n",
       "    <tr>\n",
       "      <th>perawat 4</th>\n",
       "      <td>0</td>\n",
       "      <td>0</td>\n",
       "      <td>0</td>\n",
       "      <td>0</td>\n",
       "      <td>0</td>\n",
       "      <td>0</td>\n",
       "      <td>1</td>\n",
       "      <td>0</td>\n",
       "      <td>1</td>\n",
       "      <td>0</td>\n",
       "      <td>0</td>\n",
       "      <td>0</td>\n",
       "      <td>1</td>\n",
       "      <td>0</td>\n",
       "    </tr>\n",
       "  </tbody>\n",
       "</table>\n",
       "</div>"
      ],
      "text/plain": [
       "          Senin_s Senin_m Selasa_s Selasa_m Rabu_s Rabu_m Kamis_s Kamis_m  \\\n",
       "perawat 0       1       0        1        0      0      0       0       0   \n",
       "perawat 1       0       1        0        0      0      0       1       0   \n",
       "perawat 2       0       1        0        0      1      0       1       0   \n",
       "perawat 3       0       0        1        0      0      0       0       0   \n",
       "perawat 4       0       0        0        0      0      0       1       0   \n",
       "\n",
       "          Jumat_s Jumat_m Sabtu_s Sabtu_m Minggu_s Minggu_m  \n",
       "perawat 0       0       1       0       0        0        0  \n",
       "perawat 1       1       0       0       0        0        0  \n",
       "perawat 2       0       0       0       0        0        0  \n",
       "perawat 3       0       0       0       0        0        1  \n",
       "perawat 4       1       0       0       0        1        0  "
      ]
     },
     "execution_count": 54,
     "metadata": {},
     "output_type": "execute_result"
    }
   ],
   "source": [
    "schedule = nurse_scheduling()\n",
    "\n",
    "schedule.head(5)"
   ]
  },
  {
   "cell_type": "markdown",
   "metadata": {},
   "source": [
    "## Find out the schedule for each nurse"
   ]
  },
  {
   "cell_type": "code",
   "execution_count": 39,
   "metadata": {
    "collapsed": false,
    "jupyter": {
     "outputs_hidden": false
    }
   },
   "outputs": [],
   "source": [
    "# Input the nurse id\n",
    "\n",
    "def schedule_which_nurse(nurseWho, table = var):\n",
    "    \n",
    "    '''\n",
    "    nurse Who: nurse id\n",
    "    table: Either the schedule dataframe or the linear programming solution\n",
    "    inputType: if 'lp': use linear programming solution\n",
    "               else: the dataframe\n",
    "    '''\n",
    "    # Get the data for scheduling nurse n:\n",
    "    sch = []\n",
    "       \n",
    "    for s in shifts:\n",
    "        sch.append(\n",
    "            int(value(table[(nurseWho, s)]))\n",
    "            )\n",
    "    \n",
    "    sch = np.array(sch).reshape(int(len(sch)/2), 2).swapaxes(0, 1)\n",
    "    \n",
    "    df_sch = pd.DataFrame(sch, index = ['siang', 'malam'], columns = d)\n",
    "    \n",
    "    return df_sch\n",
    "    "
   ]
  },
  {
   "cell_type": "code",
   "execution_count": 40,
   "metadata": {
    "collapsed": false,
    "jupyter": {
     "outputs_hidden": false
    }
   },
   "outputs": [],
   "source": [
    "#nurse0 = schedule_which_nurse(0)\n",
    "\n",
    "#print (\"The schedule for the nurse0 is:\")\n",
    "\n",
    "#nurse0"
   ]
  },
  {
   "cell_type": "markdown",
   "metadata": {},
   "source": [
    "## Visualize the schedule"
   ]
  },
  {
   "cell_type": "code",
   "execution_count": 41,
   "metadata": {},
   "outputs": [],
   "source": [
    "def plot_table(df, figSize = (4,2), saveFig = False, figTitle = 'nurse_scheduling'):\n",
    "    colors = df.map(lambda x: 'lightgray' if x== 0 else 'lightcoral') \n",
    "    fig = plt.figure(figsize=figSize)\n",
    "    ax = plt.subplot(2, 1, 1, frame_on = True)  # no visible frame\n",
    "    ax.axis('off')\n",
    "    # Menentukan warna \n",
    "    tb1 = pd.plotting.table(ax,df,\n",
    "                loc='center',\n",
    "                cellLoc='center',\n",
    "                cellColours=colors.values,\n",
    "                fontsize=14\n",
    "          )\n",
    "\n",
    "    if saveFig == True:\n",
    "        if not os.path.isdir('figs/notebook/'):\n",
    "            os.mkdir('figs/notebook/')\n",
    "        plt.savefig('figs/notebook/'+ figTitle +'.png', bbox_inches='tight', dpi = 150)\n",
    "    # refresh the plot\n",
    "    plt.show()"
   ]
  },
  {
   "cell_type": "code",
   "execution_count": 42,
   "metadata": {
    "collapsed": false,
    "jupyter": {
     "outputs_hidden": false
    }
   },
   "outputs": [
    {
     "name": "stdout",
     "output_type": "stream",
     "text": [
      "Jadwal dinas untuk semua perawat: \n"
     ]
    },
    {
     "data": {
      "image/png": "[encoded data removed]",
      "text/plain": [
       "<Figure size 1000x400 with 1 Axes>"
      ]
     },
     "metadata": {},
     "output_type": "display_data"
    },
    {
     "name": "stdout",
     "output_type": "stream",
     "text": [
      "Perawat yang dibutuhkan adalah: \n",
      "[5 3 5 3 5 3 5 3 5 3 5 3 5 3]\n"
     ]
    }
   ],
   "source": [
    "print (\"Jadwal dinas untuk semua perawat: \")\n",
    "plot_table(schedule, figSize = (10, 4), saveFig = True)\n",
    "\n",
    "print (\"Perawat yang dibutuhkan adalah: \")\n",
    "print (r)"
   ]
  },
  {
   "cell_type": "code",
   "execution_count": 43,
   "metadata": {
    "collapsed": false,
    "jupyter": {
     "outputs_hidden": false
    }
   },
   "outputs": [
    {
     "name": "stdout",
     "output_type": "stream",
     "text": [
      "Jadwal dinas untuk perawat0\n"
     ]
    },
    {
     "data": {
      "image/png": "[encoded data removed]",
      "text/plain": [
       "<Figure size 400x200 with 1 Axes>"
      ]
     },
     "metadata": {},
     "output_type": "display_data"
    },
    {
     "name": "stdout",
     "output_type": "stream",
     "text": [
      "Jadwal dinas untuk perawat1\n"
     ]
    },
    {
     "data": {
      "image/png": "[encoded data removed]",
      "text/plain": [
       "<Figure size 400x200 with 1 Axes>"
      ]
     },
     "metadata": {},
     "output_type": "display_data"
    },
    {
     "name": "stdout",
     "output_type": "stream",
     "text": [
      "Jadwal dinas untuk perawat2\n"
     ]
    },
    {
     "data": {
      "image/png": "[encoded data removed]",
      "text/plain": [
       "<Figure size 400x200 with 1 Axes>"
      ]
     },
     "metadata": {},
     "output_type": "display_data"
    },
    {
     "name": "stdout",
     "output_type": "stream",
     "text": [
      "Jadwal dinas untuk perawat3\n"
     ]
    },
    {
     "data": {
      "image/png": "[encoded data removed]",
      "text/plain": [
       "<Figure size 400x200 with 1 Axes>"
      ]
     },
     "metadata": {},
     "output_type": "display_data"
    },
    {
     "name": "stdout",
     "output_type": "stream",
     "text": [
      "Jadwal dinas untuk perawat4\n"
     ]
    },
    {
     "data": {
      "image/png": "[encoded data removed]",
      "text/plain": [
       "<Figure size 400x200 with 1 Axes>"
      ]
     },
     "metadata": {},
     "output_type": "display_data"
    },
    {
     "name": "stdout",
     "output_type": "stream",
     "text": [
      "Jadwal dinas untuk perawat5\n"
     ]
    },
    {
     "data": {
      "image/png": "[encoded data removed]",
      "text/plain": [
       "<Figure size 400x200 with 1 Axes>"
      ]
     },
     "metadata": {},
     "output_type": "display_data"
    },
    {
     "name": "stdout",
     "output_type": "stream",
     "text": [
      "Jadwal dinas untuk perawat6\n"
     ]
    },
    {
     "data": {
      "image/png": "[encoded data removed]",
      "text/plain": [
       "<Figure size 400x200 with 1 Axes>"
      ]
     },
     "metadata": {},
     "output_type": "display_data"
    },
    {
     "name": "stdout",
     "output_type": "stream",
     "text": [
      "Jadwal dinas untuk perawat7\n"
     ]
    },
    {
     "data": {
      "image/png": "[encoded data removed]",
      "text/plain": [
       "<Figure size 400x200 with 1 Axes>"
      ]
     },
     "metadata": {},
     "output_type": "display_data"
    },
    {
     "name": "stdout",
     "output_type": "stream",
     "text": [
      "Jadwal dinas untuk perawat8\n"
     ]
    },
    {
     "data": {
      "image/png": "[encoded data removed]",
      "text/plain": [
       "<Figure size 400x200 with 1 Axes>"
      ]
     },
     "metadata": {},
     "output_type": "display_data"
    },
    {
     "name": "stdout",
     "output_type": "stream",
     "text": [
      "Jadwal dinas untuk perawat9\n"
     ]
    },
    {
     "data": {
      "image/png": "[encoded data removed]",
      "text/plain": [
       "<Figure size 400x200 with 1 Axes>"
      ]
     },
     "metadata": {},
     "output_type": "display_data"
    }
   ],
   "source": [
    "for n in nurses[:10]:\n",
    "    print ('Jadwal dinas untuk perawat' + str(n))\n",
    "    n0 = schedule_which_nurse(n)\n",
    "    plot_table(n0, saveFig = True, figTitle = 'Perawat ' + str(n))"
   ]
  },
  {
   "cell_type": "code",
   "execution_count": 55,
   "metadata": {
    "collapsed": false,
    "jupyter": {
     "outputs_hidden": false
    }
   },
   "outputs": [
    {
     "name": "stdout",
     "output_type": "stream",
     "text": [
      "Jadwal dinas untuk perawat11\n"
     ]
    },
    {
     "data": {
      "image/png": "[encoded data removed]",
      "text/plain": [
       "<Figure size 400x200 with 1 Axes>"
      ]
     },
     "metadata": {},
     "output_type": "display_data"
    },
    {
     "name": "stdout",
     "output_type": "stream",
     "text": [
      "Jadwal dinas untuk perawat12\n"
     ]
    },
    {
     "data": {
      "image/png": "[encoded data removed]",
      "text/plain": [
       "<Figure size 400x200 with 1 Axes>"
      ]
     },
     "metadata": {},
     "output_type": "display_data"
    },
    {
     "name": "stdout",
     "output_type": "stream",
     "text": [
      "Jadwal dinas untuk perawat13\n"
     ]
    },
    {
     "data": {
      "image/png": "[encoded data removed]",
      "text/plain": [
       "<Figure size 400x200 with 1 Axes>"
      ]
     },
     "metadata": {},
     "output_type": "display_data"
    },
    {
     "name": "stdout",
     "output_type": "stream",
     "text": [
      "Jadwal dinas untuk perawat14\n"
     ]
    },
    {
     "data": {
      "image/png": "[encoded data removed]",
      "text/plain": [
       "<Figure size 400x200 with 1 Axes>"
      ]
     },
     "metadata": {},
     "output_type": "display_data"
    },
    {
     "name": "stdout",
     "output_type": "stream",
     "text": [
      "Jadwal dinas untuk perawat15\n"
     ]
    },
    {
     "data": {
      "image/png": "[encoded data removed]",
      "text/plain": [
       "<Figure size 400x200 with 1 Axes>"
      ]
     },
     "metadata": {},
     "output_type": "display_data"
    },
    {
     "name": "stdout",
     "output_type": "stream",
     "text": [
      "Jadwal dinas untuk perawat16\n"
     ]
    },
    {
     "data": {
      "image/png": "[encoded data removed]",
      "text/plain": [
       "<Figure size 400x200 with 1 Axes>"
      ]
     },
     "metadata": {},
     "output_type": "display_data"
    },
    {
     "name": "stdout",
     "output_type": "stream",
     "text": [
      "Jadwal dinas untuk perawat17\n"
     ]
    },
    {
     "data": {
      "image/png": "[encoded data removed]",
      "text/plain": [
       "<Figure size 400x200 with 1 Axes>"
      ]
     },
     "metadata": {},
     "output_type": "display_data"
    },
    {
     "name": "stdout",
     "output_type": "stream",
     "text": [
      "Jadwal dinas untuk perawat18\n"
     ]
    },
    {
     "data": {
      "image/png": "[encoded data removed]",
      "text/plain": [
       "<Figure size 400x200 with 1 Axes>"
      ]
     },
     "metadata": {},
     "output_type": "display_data"
    },
    {
     "name": "stdout",
     "output_type": "stream",
     "text": [
      "Jadwal dinas untuk perawat19\n"
     ]
    },
    {
     "data": {
      "image/png": "[encoded data removed]",
      "text/plain": [
       "<Figure size 400x200 with 1 Axes>"
      ]
     },
     "metadata": {},
     "output_type": "display_data"
    }
   ],
   "source": [
    "for n in nurses[11:20]:\n",
    "    print ('Jadwal dinas untuk perawat' + str(n))\n",
    "    n0 = schedule_which_nurse(n)\n",
    "    plot_table(n0, saveFig = True, figTitle = 'perawat' + str(n))"
   ]
  },
  {
   "cell_type": "code",
   "execution_count": null,
   "metadata": {
    "collapsed": true,
    "jupyter": {
     "outputs_hidden": true
    }
   },
   "outputs": [],
   "source": []
  },
  {
   "cell_type": "code",
   "execution_count": null,
   "metadata": {
    "collapsed": true,
    "jupyter": {
     "outputs_hidden": true
    }
   },
   "outputs": [],
   "source": []
  },
  {
   "cell_type": "code",
   "execution_count": null,
   "metadata": {},
   "outputs": [],
   "source": []
  },
  {
   "cell_type": "code",
   "execution_count": null,
   "metadata": {},
   "outputs": [],
   "source": []
  },
  {
   "cell_type": "code",
   "execution_count": null,
   "metadata": {},
   "outputs": [],
   "source": []
  }
 ],
 "metadata": {
  "anaconda-cloud": {},
  "kernelspec": {
   "display_name": "Python 3 (ipykernel)",
   "language": "python",
   "name": "python3"
  },
  "language_info": {
   "codemirror_mode": {
    "name": "ipython",
    "version": 3
   },
   "file_extension": ".py",
   "mimetype": "text/x-python",
   "name": "python",
   "nbconvert_exporter": "python",
   "pygments_lexer": "ipython3",
   "version": "3.12.8"
  }
 },
 "nbformat": 4,
 "nbformat_minor": 4
}
